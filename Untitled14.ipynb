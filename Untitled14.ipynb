{
  "nbformat": 4,
  "nbformat_minor": 0,
  "metadata": {
    "colab": {
      "name": "Untitled14.ipynb",
      "provenance": [],
      "authorship_tag": "ABX9TyPVjXAKHceloOFKxvZhMwZv",
      "include_colab_link": true
    },
    "kernelspec": {
      "name": "python3",
      "display_name": "Python 3"
    },
    "language_info": {
      "name": "python"
    }
  },
  "cells": [
    {
      "cell_type": "markdown",
      "metadata": {
        "id": "view-in-github",
        "colab_type": "text"
      },
      "source": [
        "<a href=\"https://colab.research.google.com/github/Vallidevibolla/Assignment7/blob/main/Untitled14.ipynb\" target=\"_parent\"><img src=\"https://colab.research.google.com/assets/colab-badge.svg\" alt=\"Open In Colab\"/></a>"
      ]
    },
    {
      "cell_type": "code",
      "metadata": {
        "colab": {
          "base_uri": "https://localhost:8080/",
          "height": 300
        },
        "id": "jdUPw2BA5_Tp",
        "outputId": "397f5206-a205-480d-93d5-f2a9059779aa"
      },
      "source": [
        "#from coeffs import *\n",
        "#from cvxpy import *\n",
        "import numpy as np\n",
        "import matplotlib.pyplot as plt\n",
        "\n",
        "#Generate line points\n",
        "def line_gen(A,B):\n",
        "  len =10\n",
        "  x_AB = np.zeros((2,len))\n",
        "  lam_1 = np.linspace(0,1,len)\n",
        "  for i in range(len):\n",
        "    temp1 = A + lam_1[i]*(B-A)\n",
        "    x_AB[:,i]= temp1.T\n",
        "  return x_AB\n",
        "\n",
        "  #Intersection of two lines\n",
        "def line_intersect(n1,c1,n2,c2):\n",
        "  N=np.vstack((n1,n2))\n",
        "  p = np.array([c1,c2]) \n",
        "  #Intersection\n",
        "  P=np.linalg.inv(N)@p\n",
        "#  P=np.linalg.inv(N.T)@p\n",
        "  return P\n",
        "\n",
        "A = np.array(( [1, -1], [-1, 1 ])).T\n",
        "b = np.array([ -1,0 ]).reshape((2,-1))\n",
        "c = np.array([ 1, 1 ])  #Z\n",
        "\n",
        "\n",
        "x = cp.Variable((2,1),nonneg=True)\n",
        "#Maximum function\n",
        "f = c@x\n",
        "obj = cp.Maximize(f)\n",
        "#Constraints\n",
        "constraints = [A.T@x <= b]\n",
        "\n",
        "#solution\n",
        "cp.Problem(obj, constraints).solve()\n",
        "print(\"Maximum= \",f.value)\n",
        "\n",
        "\n",
        "# Construct lines\n",
        "x = np.array([0,200])\n",
        "y1 = []\n",
        "y2 = []\n",
        "\n",
        "for i in range(2):\n",
        "  y1.append(1+x[i]) \n",
        "  \n",
        "  y2.append(1*x[i])     \n",
        "  \n",
        "\n",
        "# plot\n",
        "plt.plot(x, y1, label=r'$y\\leq(1+x)$')\n",
        "plt.plot(x, y2, label=r'$y\\geq(x)$')\n",
        "y3=np.zeros(x.shape)\n",
        "plt.plot(x,y3,label=\"Y=0\")\n",
        "plt.plot(y3,x,label=\"X=0\")\n",
        "\n",
        "\n",
        "plt.xlim((-20, 100))\n",
        "plt.ylim((-20, 250))\n",
        "plt.xlabel(r'$x$')\n",
        "plt.ylabel(r'$y$')\n",
        "\n",
        "plt.legend(bbox_to_anchor=(1.05, 1), loc=2, borderaxespad=0.)\n",
        "plt.grid()\n",
        "\n",
        "\n",
        "plt.show()"
      ],
      "execution_count": 7,
      "outputs": [
        {
          "output_type": "stream",
          "name": "stdout",
          "text": [
            "Maximum=  None\n"
          ]
        },
        {
          "output_type": "display_data",
          "data": {
            "image/png": "[encoded data removed]",
            "text/plain": [
              "<Figure size 432x288 with 1 Axes>"
            ]
          },
          "metadata": {
            "needs_background": "light"
          }
        }
      ]
    }
  ]
}