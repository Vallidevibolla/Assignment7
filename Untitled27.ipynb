{
  "nbformat": 4,
  "nbformat_minor": 0,
  "metadata": {
    "colab": {
      "name": "Untitled27.ipynb",
      "provenance": [],
      "authorship_tag": "ABX9TyOE/sTqA30jkOKwqQDRv/S+",
      "include_colab_link": true
    },
    "kernelspec": {
      "display_name": "Python 3",
      "name": "python3"
    },
    "language_info": {
      "name": "python"
    }
  },
  "cells": [
    {
      "cell_type": "markdown",
      "metadata": {
        "id": "view-in-github",
        "colab_type": "text"
      },
      "source": [
        "<a href=\"https://colab.research.google.com/github/Vallidevibolla/Assignment7/blob/main/Untitled27.ipynb\" target=\"_parent\"><img src=\"https://colab.research.google.com/assets/colab-badge.svg\" alt=\"Open In Colab\"/></a>"
      ]
    },
    {
      "cell_type": "code",
      "metadata": {
        "colab": {
          "base_uri": "https://localhost:8080/",
          "height": 298
        },
        "id": "6fC4F7dQlon4",
        "outputId": "d13e7840-fe25-46b2-a096-4d8f71d79438"
      },
      "source": [
        "\n",
        "#from coeffs import *\n",
        "#from cvxpy import *\n",
        "import numpy as np\n",
        "import matplotlib.pyplot as plt\n",
        "#from numpy import matrix\n",
        "import cvxpy as cp\n",
        "#if using termux\n",
        "import subprocess\n",
        "import shlex\n",
        "#end if\n",
        "\n",
        "A = np.array(( [1, -1], [1,  1])).T\n",
        "b = np.array([ -1, 0 ]).reshape((2,-1))\n",
        "c = np.array([ -1, -1 ])\n",
        "\n",
        "x = cp.Variable((2,1),nonneg=True)\n",
        "#Cost function\n",
        "f = c@x\n",
        "obj = cp.Maximize(f)\n",
        "#Constraints\n",
        "constraints = [A.T * x <= b]\n",
        "\n",
        "#solution\n",
        "cp.Problem(obj, constraints).solve()\n",
        "\n",
        "print(f.value,x.value)\n",
        "\n",
        "#Line Parameters\n",
        "n1 = np.array([1,-1])\n",
        "n2 = np.array([1,1])\n",
        "\n",
        "\n",
        "c1 = -1\n",
        "c2 = 0\n",
        "\n",
        "\n",
        "#Plotting Line 1\n",
        "e1 = np.array([1,0])\n",
        "e2 = np.array([0,1])\n",
        "A = c1*e1/(n1@e1)\n",
        "B = c1*e2/(n1@e2)\n",
        "\n",
        "#Generate line points\n",
        "def line_gen(A,B):\n",
        "  len =10\n",
        "  dim = A.shape[0]\n",
        "  x_AB = np.zeros((dim,len))\n",
        "  lam_1 = np.linspace(0,1,len)\n",
        "  for i in range(len):\n",
        "    temp1 = A + lam_1[i]*(B-A)\n",
        "    x_AB[:,i]= temp1.T\n",
        "  return x_AB\n",
        "\n",
        "\n",
        "\n",
        "#Generating Line 1\n",
        "O = np.array([0,0])\n",
        "X = np.array([6,0])\n",
        "Y = np.array([0,6])\n",
        "x_AB = line_gen(A,B)\n",
        "x_OX = line_gen(O,X)\n",
        "x_OY = line_gen(O,Y)\n",
        "\n",
        "\n",
        "\n",
        "\n",
        "#Plotting Line 1\n",
        "plt.plot(x_AB[0,:],x_AB[1,:],label='$AB$')\n",
        "plt.plot(A[0], A[1], 'o')\n",
        "plt.text(A[0] * (1 + 0.1), A[1] * (1 - 0.1) , 'A')\n",
        "plt.plot(B[0], B[1], 'o')\n",
        "plt.text(B[0] * (1 - 0.2), B[1] * (1) , 'B')\n",
        "plt.plot(x_OX[0,:],x_OX[1,:])\n",
        "plt.plot(x_OY[0,:],x_OY[1,:])\n",
        "\n",
        "plt.text(X[0],X[1]+ 0.1,'X')\n",
        "plt.text(Y[0],Y[1]+0.1,'Y')\n",
        "\n",
        "\n",
        "#Intersection of two lines\n",
        "def line_intersect(n1,c1,n2,c2):\n",
        "  N=np.vstack((n1,n2))\n",
        "  p = np.array([c1,c2]) \n",
        "  #Intersection\n",
        "  P=np.linalg.inv(N)@p\n",
        "#  P=np.linalg.inv(N.T)@p\n",
        "  return P\n",
        "\n",
        "#Intersection of the lines\n",
        "P = line_intersect(n1,c1,n2,c2)\n",
        "\n",
        "#Plotting points of Intersection\n",
        "plt.plot(P[0], P[1], 'o')\n",
        "plt.text(P[0] * (1 + 0.1), P[1] * (1 ) , 'P')\n",
        "plt.text(O[0],O[1]+0.1,'O')\n",
        "plt.xlabel('$x$')\n",
        "plt.ylabel('$y$')\n",
        "plt.legend(loc='best')\n",
        "plt.grid() # minor\n",
        "plt.axis('equal')\n",
        "plt.show()\n"
      ],
      "execution_count": 17,
      "outputs": [
        {
          "output_type": "stream",
          "name": "stdout",
          "text": [
            "None None\n"
          ]
        },
        {
          "output_type": "display_data",
          "data": {
            "image/png": "[encoded data removed]",
            "text/plain": [
              "<Figure size 432x288 with 1 Axes>"
            ]
          },
          "metadata": {
            "needs_background": "light"
          }
        }
      ]
    }
  ]
}