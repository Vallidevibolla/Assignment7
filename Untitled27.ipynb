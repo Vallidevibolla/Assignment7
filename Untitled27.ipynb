{
  "nbformat": 4,
  "nbformat_minor": 0,
  "metadata": {
    "colab": {
      "name": "Untitled27.ipynb",
      "provenance": [],
      "authorship_tag": "ABX9TyOrny/7sbZYc0vA1z8HaPaz",
      "include_colab_link": true
    },
    "kernelspec": {
      "name": "python3",
      "display_name": "Python 3"
    },
    "language_info": {
      "name": "python"
    }
  },
  "cells": [
    {
      "cell_type": "markdown",
      "metadata": {
        "id": "view-in-github",
        "colab_type": "text"
      },
      "source": [
        "<a href=\"https://colab.research.google.com/github/Vallidevibolla/Assignment7/blob/main/Untitled27.ipynb\" target=\"_parent\"><img src=\"https://colab.research.google.com/assets/colab-badge.svg\" alt=\"Open In Colab\"/></a>"
      ]
    },
    {
      "cell_type": "code",
      "metadata": {
        "colab": {
          "base_uri": "https://localhost:8080/",
          "height": 229
        },
        "id": "5nTHJuBKpEl-",
        "outputId": "a311a9b4-fefa-4979-f33d-2448bb2fa62c"
      },
      "source": [
        "#from coeffs import *\n",
        "#from cvxpy import *\n",
        "import numpy as np\n",
        "import matplotlib.pyplot as plt\n",
        "#from numpy import matrix\n",
        "\n",
        "#if using termux\n",
        "import subprocess\n",
        "import shlex\n",
        "#end if\n",
        "\n",
        "A = np.array(( [1, -1], [-1, 1 ])).T\n",
        "b = np.array([ -1, 0 ]).reshape((2,-1))\n",
        "c = np.array([ -1, -1 ])\n",
        "\n",
        "x = variable((2,1),nonneg = True )\n",
        "#Cost function\n",
        "f = c@x\n",
        "obj = Maximize(f)\n",
        "#Constraints\n",
        "constraints = [A.T@x <= b]\n",
        "\n",
        "#solution\n",
        "Problem(obj, constraints).solve()\n",
        "\n",
        "print(f.value,x.value)\n",
        "\n",
        "#Line Parameters\n",
        "n1 = np.array([1,-1])\n",
        "n2 = np.array([-1,1])\n",
        "#n3 = np.array([-2,2])\n",
        "\n",
        "c1 = -1\n",
        "c2 = 0\n",
        "#c3 = -1\n",
        "\n",
        "#Plotting Line 1\n",
        "e1 = np.array([1,0])\n",
        "e2 = np.array([0,1])\n",
        "A = c1*e1/(n1@e1)\n",
        "B = c1*e2/(n1@e2)\n",
        "#Generating Line 1\n",
        "O = np.array([0,0])\n",
        "X = np.array([-1,0])\n",
        "Y = np.array([0,-1])\n",
        "x_AB = line_gen(A,B)\n",
        "x_OX = line_gen(O,X)\n",
        "x_OY = line_gen(O,Y)\n",
        "\n",
        "#Plotting Line 1\n",
        "plt.plot(x_AB[0,:],x_AB[1,:],label='$AB$')\n",
        "plt.plot(A[0], A[1], 'o')\n",
        "plt.text(A[0] * (1 + 0.1), A[1] * (1 - 0.1) , 'A')\n",
        "plt.plot(B[0], B[1], 'o')\n",
        "plt.text(B[0] * (1 - 0.2), B[1] * (1) , 'B')\n",
        "plt.plot(x_OX[0,:],x_OX[1,:])\n",
        "plt.plot(x_OY[0,:],x_OY[1,:])\n",
        "\n",
        "plt.text(X[0],X[1]+ 0.1,'X')\n",
        "plt.text(Y[0],Y[1]+0.1,'Y')\n",
        "#Plotting Line 2\n",
        "C = c2*e1/(n2@e1)\n",
        "D = c2*e2/(n2@e2)\n",
        "#Generating Line 1\n",
        "x_CD = line_gen(C,D)\n",
        "\n",
        "#Plotting Line 1\n",
        "plt.plot(x_CD[0,:],x_CD[1,:],label='$CD$')\n",
        "plt.plot(C[0], C[1], 'o')\n",
        "plt.text(C[0] * (1 + 0.1), C[1] * (1 - 0.1) , 'C')\n",
        "plt.plot(D[0], D[1], 'o')\n",
        "plt.text(D[0] * (1 - 0.2), D[1] * (1) , 'D')\n",
        "\n",
        "#Intersection of the lines\n",
        "P = line_intersect(n1,c1,n2,c2)\n",
        "\n",
        "#Plotting points of Intersection\n",
        "plt.plot(P[0], P[1], 'o')\n",
        "plt.text(P[0] * (1 + 0.1), P[1] * (1 ) , 'P')\n",
        "plt.text(O[0],O[1]+0.1,'O')\n",
        "plt.xlabel('$x$')\n",
        "plt.ylabel('$y$')\n",
        "plt.legend(loc='best')\n",
        "plt.grid() # minor\n",
        "plt.axis('equal')\n",
        "plt.show()"
      ],
      "execution_count": 2,
      "outputs": [
        {
          "output_type": "error",
          "ename": "NameError",
          "evalue": "ignored",
          "traceback": [
            "\u001b[0;31m---------------------------------------------------------------------------\u001b[0m",
            "\u001b[0;31mNameError\u001b[0m                                 Traceback (most recent call last)",
            "\u001b[0;32m<ipython-input-2-16badc05db6d>\u001b[0m in \u001b[0;36m<module>\u001b[0;34m()\u001b[0m\n\u001b[1;32m     14\u001b[0m \u001b[0mc\u001b[0m \u001b[0;34m=\u001b[0m \u001b[0mnp\u001b[0m\u001b[0;34m.\u001b[0m\u001b[0marray\u001b[0m\u001b[0;34m(\u001b[0m\u001b[0;34m[\u001b[0m \u001b[0;34m-\u001b[0m\u001b[0;36m1\u001b[0m\u001b[0;34m,\u001b[0m \u001b[0;34m-\u001b[0m\u001b[0;36m1\u001b[0m \u001b[0;34m]\u001b[0m\u001b[0;34m)\u001b[0m\u001b[0;34m\u001b[0m\u001b[0;34m\u001b[0m\u001b[0m\n\u001b[1;32m     15\u001b[0m \u001b[0;34m\u001b[0m\u001b[0m\n\u001b[0;32m---> 16\u001b[0;31m \u001b[0mx\u001b[0m \u001b[0;34m=\u001b[0m \u001b[0mvariable\u001b[0m\u001b[0;34m(\u001b[0m\u001b[0;34m(\u001b[0m\u001b[0;36m2\u001b[0m\u001b[0;34m,\u001b[0m\u001b[0;36m1\u001b[0m\u001b[0;34m)\u001b[0m\u001b[0;34m,\u001b[0m\u001b[0mnonneg\u001b[0m \u001b[0;34m=\u001b[0m \u001b[0;32mTrue\u001b[0m \u001b[0;34m)\u001b[0m\u001b[0;34m\u001b[0m\u001b[0;34m\u001b[0m\u001b[0m\n\u001b[0m\u001b[1;32m     17\u001b[0m \u001b[0;31m#Cost function\u001b[0m\u001b[0;34m\u001b[0m\u001b[0;34m\u001b[0m\u001b[0;34m\u001b[0m\u001b[0m\n\u001b[1;32m     18\u001b[0m \u001b[0mf\u001b[0m \u001b[0;34m=\u001b[0m \u001b[0mc\u001b[0m\u001b[0;34m@\u001b[0m\u001b[0mx\u001b[0m\u001b[0;34m\u001b[0m\u001b[0;34m\u001b[0m\u001b[0m\n",
            "\u001b[0;31mNameError\u001b[0m: name 'variable' is not defined"
          ]
        }
      ]
    }
  ]
}